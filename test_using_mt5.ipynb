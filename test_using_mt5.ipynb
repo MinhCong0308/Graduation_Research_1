{
 "cells": [
  {
   "cell_type": "code",
   "execution_count": 1,
   "metadata": {},
   "outputs": [],
   "source": [
    "import torch\n",
    "from transformers import AutoTokenizer, AutoConfig, AutoModel, MT5Model"
   ]
  },
  {
   "cell_type": "code",
   "execution_count": 2,
   "metadata": {},
   "outputs": [],
   "source": [
    "import os\n",
    "from huggingface_hub import hf_hub_download"
   ]
  },
  {
   "cell_type": "code",
   "execution_count": 5,
   "metadata": {},
   "outputs": [],
   "source": [
    "import os\n",
    "from huggingface_hub import hf_hub_download\n",
    "import torch\n",
    "from transformers import AutoTokenizer, AutoConfig, AutoModel, MT5Model\n",
    "\n",
    "\n",
    "class MT5EncoderForIntentRecognition(torch.nn.Module):\n",
    "    def __init__(self, encoder, num_labels):\n",
    "        super(MT5EncoderForIntentRecognition, self).__init__()\n",
    "        self.encoder = encoder\n",
    "        self.dropout = torch.nn.Dropout(0.1)\n",
    "        self.classifier = torch.nn.Linear(self.encoder.config.d_model, num_labels)\n",
    "\n",
    "    @classmethod\n",
    "    def from_pretrained(cls, model_name, num_labels):\n",
    "        config = AutoConfig.from_pretrained(model_name)\n",
    "        encoder = MT5Model.from_pretrained(model_name).encoder\n",
    "        model_path = hf_hub_download(repo_id=model_name, filename=\"pytorch_model.bin\")\n",
    "\n",
    "        model = cls(encoder, num_labels)\n",
    "        state_dict = torch.load(model_path, map_location=torch.device('cuda' if torch.cuda.is_available() else 'cpu'))\n",
    "        model.encoder.load_state_dict(state_dict['encoder_state_dict'], strict=False)\n",
    "        model.classifier.load_state_dict(state_dict['classifier_state_dict'], strict=False)\n",
    "\n",
    "        return model\n",
    "\n",
    "    def forward(self, input_ids, attention_mask=None, labels=None):\n",
    "        encoder_outputs = self.encoder(input_ids=input_ids, attention_mask=attention_mask)\n",
    "        sequence_output = encoder_outputs.last_hidden_state\n",
    "        pooled_output = sequence_output[:, 0, :]\n",
    "        pooled_output = self.dropout(pooled_output)\n",
    "        logits = self.classifier(pooled_output)\n",
    "\n",
    "        loss = None\n",
    "        if labels is not None:\n",
    "            loss_fct = torch.nn.CrossEntropyLoss()\n",
    "            loss = loss_fct(logits.view(-1, self.classifier.out_features), labels.view(-1))\n",
    "\n",
    "        return {\"loss\": loss, \"logits\": logits} if loss is not None else {\"logits\": logits}\n"
   ]
  },
  {
   "cell_type": "code",
   "execution_count": 7,
   "metadata": {},
   "outputs": [
    {
     "name": "stderr",
     "output_type": "stream",
     "text": [
      "c:\\Users\\ADMIN\\AppData\\Local\\Programs\\Python\\Python311\\Lib\\site-packages\\transformers\\convert_slow_tokenizer.py:561: UserWarning: The sentencepiece tokenizer that you are converting to a fast tokenizer uses the byte fallback option which is not implemented in the fast tokenizers. In practice this means that the fast version of the tokenizer can produce unknown tokens whereas the sentencepiece version would have converted these unknown tokens into a sequence of byte tokens matching the original piece of text.\n",
      "  warnings.warn(\n"
     ]
    },
    {
     "data": {
      "application/vnd.jupyter.widget-view+json": {
       "model_id": "28198e58af8b44d7a984ca1ac41d6f2f",
       "version_major": 2,
       "version_minor": 0
      },
      "text/plain": [
       "config.json:   0%|          | 0.00/774 [00:00<?, ?B/s]"
      ]
     },
     "metadata": {},
     "output_type": "display_data"
    },
    {
     "name": "stderr",
     "output_type": "stream",
     "text": [
      "c:\\Users\\ADMIN\\AppData\\Local\\Programs\\Python\\Python311\\Lib\\site-packages\\huggingface_hub\\file_download.py:139: UserWarning: `huggingface_hub` cache-system uses symlinks by default to efficiently store duplicated files but your machine does not support them in C:\\Users\\ADMIN\\.cache\\huggingface\\hub\\models--NguyenMinh03082004--intent_recognition_based_mt5_encoder. Caching files will still work but in a degraded version that might require more space on your disk. This warning can be disabled by setting the `HF_HUB_DISABLE_SYMLINKS_WARNING` environment variable. For more details, see https://huggingface.co/docs/huggingface_hub/how-to-cache#limitations.\n",
      "To support symlinks on Windows, you either need to activate Developer Mode or to run Python as an administrator. In order to activate developer mode, see this article: https://docs.microsoft.com/en-us/windows/apps/get-started/enable-your-device-for-development\n",
      "  warnings.warn(message)\n"
     ]
    },
    {
     "data": {
      "application/vnd.jupyter.widget-view+json": {
       "model_id": "aeb99f998237448eb5b0d9ae656d156c",
       "version_major": 2,
       "version_minor": 0
      },
      "text/plain": [
       "model.safetensors:   0%|          | 0.00/588M [00:00<?, ?B/s]"
      ]
     },
     "metadata": {},
     "output_type": "display_data"
    },
    {
     "name": "stderr",
     "output_type": "stream",
     "text": [
      "Some weights of MT5Model were not initialized from the model checkpoint at NguyenMinh03082004/intent_recognition_based_mt5_encoder and are newly initialized: ['decoder.block.0.layer.0.SelfAttention.k.weight', 'decoder.block.0.layer.0.SelfAttention.o.weight', 'decoder.block.0.layer.0.SelfAttention.q.weight', 'decoder.block.0.layer.0.SelfAttention.relative_attention_bias.weight', 'decoder.block.0.layer.0.SelfAttention.v.weight', 'decoder.block.0.layer.0.layer_norm.weight', 'decoder.block.0.layer.1.EncDecAttention.k.weight', 'decoder.block.0.layer.1.EncDecAttention.o.weight', 'decoder.block.0.layer.1.EncDecAttention.q.weight', 'decoder.block.0.layer.1.EncDecAttention.v.weight', 'decoder.block.0.layer.1.layer_norm.weight', 'decoder.block.0.layer.2.DenseReluDense.wi_0.weight', 'decoder.block.0.layer.2.DenseReluDense.wi_1.weight', 'decoder.block.0.layer.2.DenseReluDense.wo.weight', 'decoder.block.0.layer.2.layer_norm.weight', 'decoder.block.1.layer.0.SelfAttention.k.weight', 'decoder.block.1.layer.0.SelfAttention.o.weight', 'decoder.block.1.layer.0.SelfAttention.q.weight', 'decoder.block.1.layer.0.SelfAttention.v.weight', 'decoder.block.1.layer.0.layer_norm.weight', 'decoder.block.1.layer.1.EncDecAttention.k.weight', 'decoder.block.1.layer.1.EncDecAttention.o.weight', 'decoder.block.1.layer.1.EncDecAttention.q.weight', 'decoder.block.1.layer.1.EncDecAttention.v.weight', 'decoder.block.1.layer.1.layer_norm.weight', 'decoder.block.1.layer.2.DenseReluDense.wi_0.weight', 'decoder.block.1.layer.2.DenseReluDense.wi_1.weight', 'decoder.block.1.layer.2.DenseReluDense.wo.weight', 'decoder.block.1.layer.2.layer_norm.weight', 'decoder.block.2.layer.0.SelfAttention.k.weight', 'decoder.block.2.layer.0.SelfAttention.o.weight', 'decoder.block.2.layer.0.SelfAttention.q.weight', 'decoder.block.2.layer.0.SelfAttention.v.weight', 'decoder.block.2.layer.0.layer_norm.weight', 'decoder.block.2.layer.1.EncDecAttention.k.weight', 'decoder.block.2.layer.1.EncDecAttention.o.weight', 'decoder.block.2.layer.1.EncDecAttention.q.weight', 'decoder.block.2.layer.1.EncDecAttention.v.weight', 'decoder.block.2.layer.1.layer_norm.weight', 'decoder.block.2.layer.2.DenseReluDense.wi_0.weight', 'decoder.block.2.layer.2.DenseReluDense.wi_1.weight', 'decoder.block.2.layer.2.DenseReluDense.wo.weight', 'decoder.block.2.layer.2.layer_norm.weight', 'decoder.block.3.layer.0.SelfAttention.k.weight', 'decoder.block.3.layer.0.SelfAttention.o.weight', 'decoder.block.3.layer.0.SelfAttention.q.weight', 'decoder.block.3.layer.0.SelfAttention.v.weight', 'decoder.block.3.layer.0.layer_norm.weight', 'decoder.block.3.layer.1.EncDecAttention.k.weight', 'decoder.block.3.layer.1.EncDecAttention.o.weight', 'decoder.block.3.layer.1.EncDecAttention.q.weight', 'decoder.block.3.layer.1.EncDecAttention.v.weight', 'decoder.block.3.layer.1.layer_norm.weight', 'decoder.block.3.layer.2.DenseReluDense.wi_0.weight', 'decoder.block.3.layer.2.DenseReluDense.wi_1.weight', 'decoder.block.3.layer.2.DenseReluDense.wo.weight', 'decoder.block.3.layer.2.layer_norm.weight', 'decoder.block.4.layer.0.SelfAttention.k.weight', 'decoder.block.4.layer.0.SelfAttention.o.weight', 'decoder.block.4.layer.0.SelfAttention.q.weight', 'decoder.block.4.layer.0.SelfAttention.v.weight', 'decoder.block.4.layer.0.layer_norm.weight', 'decoder.block.4.layer.1.EncDecAttention.k.weight', 'decoder.block.4.layer.1.EncDecAttention.o.weight', 'decoder.block.4.layer.1.EncDecAttention.q.weight', 'decoder.block.4.layer.1.EncDecAttention.v.weight', 'decoder.block.4.layer.1.layer_norm.weight', 'decoder.block.4.layer.2.DenseReluDense.wi_0.weight', 'decoder.block.4.layer.2.DenseReluDense.wi_1.weight', 'decoder.block.4.layer.2.DenseReluDense.wo.weight', 'decoder.block.4.layer.2.layer_norm.weight', 'decoder.block.5.layer.0.SelfAttention.k.weight', 'decoder.block.5.layer.0.SelfAttention.o.weight', 'decoder.block.5.layer.0.SelfAttention.q.weight', 'decoder.block.5.layer.0.SelfAttention.v.weight', 'decoder.block.5.layer.0.layer_norm.weight', 'decoder.block.5.layer.1.EncDecAttention.k.weight', 'decoder.block.5.layer.1.EncDecAttention.o.weight', 'decoder.block.5.layer.1.EncDecAttention.q.weight', 'decoder.block.5.layer.1.EncDecAttention.v.weight', 'decoder.block.5.layer.1.layer_norm.weight', 'decoder.block.5.layer.2.DenseReluDense.wi_0.weight', 'decoder.block.5.layer.2.DenseReluDense.wi_1.weight', 'decoder.block.5.layer.2.DenseReluDense.wo.weight', 'decoder.block.5.layer.2.layer_norm.weight', 'decoder.block.6.layer.0.SelfAttention.k.weight', 'decoder.block.6.layer.0.SelfAttention.o.weight', 'decoder.block.6.layer.0.SelfAttention.q.weight', 'decoder.block.6.layer.0.SelfAttention.v.weight', 'decoder.block.6.layer.0.layer_norm.weight', 'decoder.block.6.layer.1.EncDecAttention.k.weight', 'decoder.block.6.layer.1.EncDecAttention.o.weight', 'decoder.block.6.layer.1.EncDecAttention.q.weight', 'decoder.block.6.layer.1.EncDecAttention.v.weight', 'decoder.block.6.layer.1.layer_norm.weight', 'decoder.block.6.layer.2.DenseReluDense.wi_0.weight', 'decoder.block.6.layer.2.DenseReluDense.wi_1.weight', 'decoder.block.6.layer.2.DenseReluDense.wo.weight', 'decoder.block.6.layer.2.layer_norm.weight', 'decoder.block.7.layer.0.SelfAttention.k.weight', 'decoder.block.7.layer.0.SelfAttention.o.weight', 'decoder.block.7.layer.0.SelfAttention.q.weight', 'decoder.block.7.layer.0.SelfAttention.v.weight', 'decoder.block.7.layer.0.layer_norm.weight', 'decoder.block.7.layer.1.EncDecAttention.k.weight', 'decoder.block.7.layer.1.EncDecAttention.o.weight', 'decoder.block.7.layer.1.EncDecAttention.q.weight', 'decoder.block.7.layer.1.EncDecAttention.v.weight', 'decoder.block.7.layer.1.layer_norm.weight', 'decoder.block.7.layer.2.DenseReluDense.wi_0.weight', 'decoder.block.7.layer.2.DenseReluDense.wi_1.weight', 'decoder.block.7.layer.2.DenseReluDense.wo.weight', 'decoder.block.7.layer.2.layer_norm.weight', 'decoder.final_layer_norm.weight']\n",
      "You should probably TRAIN this model on a down-stream task to be able to use it for predictions and inference.\n"
     ]
    },
    {
     "data": {
      "application/vnd.jupyter.widget-view+json": {
       "model_id": "17eaac7509e441d7bec7d95ae8616038",
       "version_major": 2,
       "version_minor": 0
      },
      "text/plain": [
       "pytorch_model.bin:   0%|          | 0.00/588M [00:00<?, ?B/s]"
      ]
     },
     "metadata": {},
     "output_type": "display_data"
    },
    {
     "name": "stderr",
     "output_type": "stream",
     "text": [
      "C:\\Users\\ADMIN\\AppData\\Local\\Temp\\ipykernel_15904\\132887187.py:21: FutureWarning: You are using `torch.load` with `weights_only=False` (the current default value), which uses the default pickle module implicitly. It is possible to construct malicious pickle data which will execute arbitrary code during unpickling (See https://github.com/pytorch/pytorch/blob/main/SECURITY.md#untrusted-models for more details). In a future release, the default value for `weights_only` will be flipped to `True`. This limits the functions that could be executed during unpickling. Arbitrary objects will no longer be allowed to be loaded via this mode unless they are explicitly allowlisted by the user via `torch.serialization.add_safe_globals`. We recommend you start setting `weights_only=True` for any use case where you don't have full control of the loaded file. Please open an issue on GitHub for any issues related to this experimental feature.\n",
      "  state_dict = torch.load(model_path, map_location=torch.device('cuda' if torch.cuda.is_available() else 'cpu'))\n"
     ]
    },
    {
     "data": {
      "text/plain": [
       "MT5EncoderForIntentRecognition(\n",
       "  (encoder): MT5Stack(\n",
       "    (embed_tokens): Embedding(250112, 512)\n",
       "    (block): ModuleList(\n",
       "      (0): MT5Block(\n",
       "        (layer): ModuleList(\n",
       "          (0): MT5LayerSelfAttention(\n",
       "            (SelfAttention): MT5Attention(\n",
       "              (q): Linear(in_features=512, out_features=384, bias=False)\n",
       "              (k): Linear(in_features=512, out_features=384, bias=False)\n",
       "              (v): Linear(in_features=512, out_features=384, bias=False)\n",
       "              (o): Linear(in_features=384, out_features=512, bias=False)\n",
       "              (relative_attention_bias): Embedding(32, 6)\n",
       "            )\n",
       "            (layer_norm): MT5LayerNorm()\n",
       "            (dropout): Dropout(p=0.1, inplace=False)\n",
       "          )\n",
       "          (1): MT5LayerFF(\n",
       "            (DenseReluDense): MT5DenseGatedActDense(\n",
       "              (wi_0): Linear(in_features=512, out_features=1024, bias=False)\n",
       "              (wi_1): Linear(in_features=512, out_features=1024, bias=False)\n",
       "              (wo): Linear(in_features=1024, out_features=512, bias=False)\n",
       "              (dropout): Dropout(p=0.1, inplace=False)\n",
       "              (act): NewGELUActivation()\n",
       "            )\n",
       "            (layer_norm): MT5LayerNorm()\n",
       "            (dropout): Dropout(p=0.1, inplace=False)\n",
       "          )\n",
       "        )\n",
       "      )\n",
       "      (1-7): 7 x MT5Block(\n",
       "        (layer): ModuleList(\n",
       "          (0): MT5LayerSelfAttention(\n",
       "            (SelfAttention): MT5Attention(\n",
       "              (q): Linear(in_features=512, out_features=384, bias=False)\n",
       "              (k): Linear(in_features=512, out_features=384, bias=False)\n",
       "              (v): Linear(in_features=512, out_features=384, bias=False)\n",
       "              (o): Linear(in_features=384, out_features=512, bias=False)\n",
       "            )\n",
       "            (layer_norm): MT5LayerNorm()\n",
       "            (dropout): Dropout(p=0.1, inplace=False)\n",
       "          )\n",
       "          (1): MT5LayerFF(\n",
       "            (DenseReluDense): MT5DenseGatedActDense(\n",
       "              (wi_0): Linear(in_features=512, out_features=1024, bias=False)\n",
       "              (wi_1): Linear(in_features=512, out_features=1024, bias=False)\n",
       "              (wo): Linear(in_features=1024, out_features=512, bias=False)\n",
       "              (dropout): Dropout(p=0.1, inplace=False)\n",
       "              (act): NewGELUActivation()\n",
       "            )\n",
       "            (layer_norm): MT5LayerNorm()\n",
       "            (dropout): Dropout(p=0.1, inplace=False)\n",
       "          )\n",
       "        )\n",
       "      )\n",
       "    )\n",
       "    (final_layer_norm): MT5LayerNorm()\n",
       "    (dropout): Dropout(p=0.1, inplace=False)\n",
       "  )\n",
       "  (dropout): Dropout(p=0.1, inplace=False)\n",
       "  (classifier): Linear(in_features=512, out_features=150, bias=True)\n",
       ")"
      ]
     },
     "execution_count": 7,
     "metadata": {},
     "output_type": "execute_result"
    }
   ],
   "source": [
    "model_name = \"NguyenMinh03082004/intent_recognition_based_mt5_encoder\"\n",
    "tokenizer = AutoTokenizer.from_pretrained(model_name)\n",
    "model = MT5EncoderForIntentRecognition.from_pretrained(model_name, num_labels=150)\n",
    "device = torch.device('cpu')\n",
    "model.to(device)"
   ]
  },
  {
   "cell_type": "code",
   "execution_count": 8,
   "metadata": {},
   "outputs": [],
   "source": [
    "import pandas as pd\n",
    "data_test = pd.read_json('is_test.json')"
   ]
  },
  {
   "cell_type": "code",
   "execution_count": 9,
   "metadata": {},
   "outputs": [
    {
     "name": "stdout",
     "output_type": "stream",
     "text": [
      "                                                 0              1\n",
      "0                 how would you say fly in italian      translate\n",
      "1                what's the spanish word for pasta      translate\n",
      "2              how would they say butter in zambia      translate\n",
      "3                   how do you say fast in spanish      translate\n",
      "4              what's the word for trees in norway      translate\n",
      "...                                            ...            ...\n",
      "4495                why can't i use my credit card  card_declined\n",
      "4496  why won't you let me pay with my credit card  card_declined\n",
      "4497             why did i get rejected on my card  card_declined\n",
      "4498         how come my credit card isn't working  card_declined\n",
      "4499                       why didn't my card work  card_declined\n",
      "\n",
      "[4500 rows x 2 columns]\n"
     ]
    }
   ],
   "source": [
    "print(data_test)"
   ]
  },
  {
   "cell_type": "code",
   "execution_count": 10,
   "metadata": {},
   "outputs": [],
   "source": [
    "x_test = data_test[0].values\n",
    "y_test = data_test[1].values"
   ]
  },
  {
   "cell_type": "code",
   "execution_count": 12,
   "metadata": {},
   "outputs": [
    {
     "name": "stdout",
     "output_type": "stream",
     "text": [
      "['how would you say fly in italian' \"what's the spanish word for pasta\"\n",
      " 'how would they say butter in zambia' ...\n",
      " 'why did i get rejected on my card'\n",
      " \"how come my credit card isn't working\" \"why didn't my card work\"]\n",
      "['translate' 'translate' 'translate' ... 'card_declined' 'card_declined'\n",
      " 'card_declined']\n"
     ]
    }
   ],
   "source": [
    "print(x_test)\n",
    "print(y_test)"
   ]
  },
  {
   "cell_type": "code",
   "execution_count": 13,
   "metadata": {},
   "outputs": [],
   "source": [
    "import numpy as np\n",
    "unique_labels = np.unique(y_test)"
   ]
  },
  {
   "cell_type": "code",
   "execution_count": 14,
   "metadata": {},
   "outputs": [
    {
     "name": "stdout",
     "output_type": "stream",
     "text": [
      "['accept_reservations' 'account_blocked' 'alarm' 'application_status'\n",
      " 'apr' 'are_you_a_bot' 'balance' 'bill_balance' 'bill_due' 'book_flight'\n",
      " 'book_hotel' 'calculator' 'calendar' 'calendar_update' 'calories'\n",
      " 'cancel' 'cancel_reservation' 'car_rental' 'card_declined' 'carry_on'\n",
      " 'change_accent' 'change_ai_name' 'change_language' 'change_speed'\n",
      " 'change_user_name' 'change_volume' 'confirm_reservation' 'cook_time'\n",
      " 'credit_limit' 'credit_limit_change' 'credit_score' 'current_location'\n",
      " 'damaged_card' 'date' 'definition' 'direct_deposit' 'directions'\n",
      " 'distance' 'do_you_have_pets' 'exchange_rate' 'expiration_date'\n",
      " 'find_phone' 'flight_status' 'flip_coin' 'food_last' 'freeze_account'\n",
      " 'fun_fact' 'gas' 'gas_type' 'goodbye' 'greeting' 'how_busy'\n",
      " 'how_old_are_you' 'improve_credit_score' 'income'\n",
      " 'ingredient_substitution' 'ingredients_list' 'insurance'\n",
      " 'insurance_change' 'interest_rate' 'international_fees'\n",
      " 'international_visa' 'jump_start' 'last_maintenance' 'lost_luggage'\n",
      " 'make_call' 'maybe' 'meal_suggestion' 'meaning_of_life'\n",
      " 'measurement_conversion' 'meeting_schedule' 'min_payment' 'mpg'\n",
      " 'new_card' 'next_holiday' 'next_song' 'no' 'nutrition_info'\n",
      " 'oil_change_how' 'oil_change_when' 'order' 'order_checks' 'order_status'\n",
      " 'pay_bill' 'payday' 'pin_change' 'play_music' 'plug_type' 'pto_balance'\n",
      " 'pto_request' 'pto_request_status' 'pto_used' 'recipe' 'redeem_rewards'\n",
      " 'reminder' 'reminder_update' 'repeat' 'replacement_card_duration'\n",
      " 'report_fraud' 'report_lost_card' 'reset_settings'\n",
      " 'restaurant_reservation' 'restaurant_reviews' 'restaurant_suggestion'\n",
      " 'rewards_balance' 'roll_dice' 'rollover_401k' 'routing'\n",
      " 'schedule_maintenance' 'schedule_meeting' 'share_location'\n",
      " 'shopping_list' 'shopping_list_update' 'smart_home' 'spelling'\n",
      " 'spending_history' 'sync_device' 'taxes' 'tell_joke' 'text' 'thank_you'\n",
      " 'time' 'timer' 'timezone' 'tire_change' 'tire_pressure' 'todo_list'\n",
      " 'todo_list_update' 'traffic' 'transactions' 'transfer' 'translate'\n",
      " 'travel_alert' 'travel_notification' 'travel_suggestion' 'uber'\n",
      " 'update_playlist' 'user_name' 'vaccines' 'w2' 'weather'\n",
      " 'what_are_your_hobbies' 'what_can_i_ask_you' 'what_is_your_name'\n",
      " 'what_song' 'where_are_you_from' 'whisper_mode' 'who_do_you_work_for'\n",
      " 'who_made_you' 'yes']\n"
     ]
    }
   ],
   "source": [
    "print(unique_labels)"
   ]
  },
  {
   "cell_type": "code",
   "execution_count": 19,
   "metadata": {},
   "outputs": [],
   "source": [
    "label_to_num = {}\n",
    "for i in range(len(unique_labels)):\n",
    "    label_to_num[unique_labels[i]] = i \n",
    "num_to_label = {}\n",
    "for i in range(len(unique_labels)):\n",
    "    num_to_label[i] = unique_labels[i]\n"
   ]
  },
  {
   "cell_type": "code",
   "execution_count": 20,
   "metadata": {},
   "outputs": [
    {
     "name": "stdout",
     "output_type": "stream",
     "text": [
      "{'accept_reservations': 0, 'account_blocked': 1, 'alarm': 2, 'application_status': 3, 'apr': 4, 'are_you_a_bot': 5, 'balance': 6, 'bill_balance': 7, 'bill_due': 8, 'book_flight': 9, 'book_hotel': 10, 'calculator': 11, 'calendar': 12, 'calendar_update': 13, 'calories': 14, 'cancel': 15, 'cancel_reservation': 16, 'car_rental': 17, 'card_declined': 18, 'carry_on': 19, 'change_accent': 20, 'change_ai_name': 21, 'change_language': 22, 'change_speed': 23, 'change_user_name': 24, 'change_volume': 25, 'confirm_reservation': 26, 'cook_time': 27, 'credit_limit': 28, 'credit_limit_change': 29, 'credit_score': 30, 'current_location': 31, 'damaged_card': 32, 'date': 33, 'definition': 34, 'direct_deposit': 35, 'directions': 36, 'distance': 37, 'do_you_have_pets': 38, 'exchange_rate': 39, 'expiration_date': 40, 'find_phone': 41, 'flight_status': 42, 'flip_coin': 43, 'food_last': 44, 'freeze_account': 45, 'fun_fact': 46, 'gas': 47, 'gas_type': 48, 'goodbye': 49, 'greeting': 50, 'how_busy': 51, 'how_old_are_you': 52, 'improve_credit_score': 53, 'income': 54, 'ingredient_substitution': 55, 'ingredients_list': 56, 'insurance': 57, 'insurance_change': 58, 'interest_rate': 59, 'international_fees': 60, 'international_visa': 61, 'jump_start': 62, 'last_maintenance': 63, 'lost_luggage': 64, 'make_call': 65, 'maybe': 66, 'meal_suggestion': 67, 'meaning_of_life': 68, 'measurement_conversion': 69, 'meeting_schedule': 70, 'min_payment': 71, 'mpg': 72, 'new_card': 73, 'next_holiday': 74, 'next_song': 75, 'no': 76, 'nutrition_info': 77, 'oil_change_how': 78, 'oil_change_when': 79, 'order': 80, 'order_checks': 81, 'order_status': 82, 'pay_bill': 83, 'payday': 84, 'pin_change': 85, 'play_music': 86, 'plug_type': 87, 'pto_balance': 88, 'pto_request': 89, 'pto_request_status': 90, 'pto_used': 91, 'recipe': 92, 'redeem_rewards': 93, 'reminder': 94, 'reminder_update': 95, 'repeat': 96, 'replacement_card_duration': 97, 'report_fraud': 98, 'report_lost_card': 99, 'reset_settings': 100, 'restaurant_reservation': 101, 'restaurant_reviews': 102, 'restaurant_suggestion': 103, 'rewards_balance': 104, 'roll_dice': 105, 'rollover_401k': 106, 'routing': 107, 'schedule_maintenance': 108, 'schedule_meeting': 109, 'share_location': 110, 'shopping_list': 111, 'shopping_list_update': 112, 'smart_home': 113, 'spelling': 114, 'spending_history': 115, 'sync_device': 116, 'taxes': 117, 'tell_joke': 118, 'text': 119, 'thank_you': 120, 'time': 121, 'timer': 122, 'timezone': 123, 'tire_change': 124, 'tire_pressure': 125, 'todo_list': 126, 'todo_list_update': 127, 'traffic': 128, 'transactions': 129, 'transfer': 130, 'translate': 131, 'travel_alert': 132, 'travel_notification': 133, 'travel_suggestion': 134, 'uber': 135, 'update_playlist': 136, 'user_name': 137, 'vaccines': 138, 'w2': 139, 'weather': 140, 'what_are_your_hobbies': 141, 'what_can_i_ask_you': 142, 'what_is_your_name': 143, 'what_song': 144, 'where_are_you_from': 145, 'whisper_mode': 146, 'who_do_you_work_for': 147, 'who_made_you': 148, 'yes': 149}\n",
      "{0: 'accept_reservations', 1: 'account_blocked', 2: 'alarm', 3: 'application_status', 4: 'apr', 5: 'are_you_a_bot', 6: 'balance', 7: 'bill_balance', 8: 'bill_due', 9: 'book_flight', 10: 'book_hotel', 11: 'calculator', 12: 'calendar', 13: 'calendar_update', 14: 'calories', 15: 'cancel', 16: 'cancel_reservation', 17: 'car_rental', 18: 'card_declined', 19: 'carry_on', 20: 'change_accent', 21: 'change_ai_name', 22: 'change_language', 23: 'change_speed', 24: 'change_user_name', 25: 'change_volume', 26: 'confirm_reservation', 27: 'cook_time', 28: 'credit_limit', 29: 'credit_limit_change', 30: 'credit_score', 31: 'current_location', 32: 'damaged_card', 33: 'date', 34: 'definition', 35: 'direct_deposit', 36: 'directions', 37: 'distance', 38: 'do_you_have_pets', 39: 'exchange_rate', 40: 'expiration_date', 41: 'find_phone', 42: 'flight_status', 43: 'flip_coin', 44: 'food_last', 45: 'freeze_account', 46: 'fun_fact', 47: 'gas', 48: 'gas_type', 49: 'goodbye', 50: 'greeting', 51: 'how_busy', 52: 'how_old_are_you', 53: 'improve_credit_score', 54: 'income', 55: 'ingredient_substitution', 56: 'ingredients_list', 57: 'insurance', 58: 'insurance_change', 59: 'interest_rate', 60: 'international_fees', 61: 'international_visa', 62: 'jump_start', 63: 'last_maintenance', 64: 'lost_luggage', 65: 'make_call', 66: 'maybe', 67: 'meal_suggestion', 68: 'meaning_of_life', 69: 'measurement_conversion', 70: 'meeting_schedule', 71: 'min_payment', 72: 'mpg', 73: 'new_card', 74: 'next_holiday', 75: 'next_song', 76: 'no', 77: 'nutrition_info', 78: 'oil_change_how', 79: 'oil_change_when', 80: 'order', 81: 'order_checks', 82: 'order_status', 83: 'pay_bill', 84: 'payday', 85: 'pin_change', 86: 'play_music', 87: 'plug_type', 88: 'pto_balance', 89: 'pto_request', 90: 'pto_request_status', 91: 'pto_used', 92: 'recipe', 93: 'redeem_rewards', 94: 'reminder', 95: 'reminder_update', 96: 'repeat', 97: 'replacement_card_duration', 98: 'report_fraud', 99: 'report_lost_card', 100: 'reset_settings', 101: 'restaurant_reservation', 102: 'restaurant_reviews', 103: 'restaurant_suggestion', 104: 'rewards_balance', 105: 'roll_dice', 106: 'rollover_401k', 107: 'routing', 108: 'schedule_maintenance', 109: 'schedule_meeting', 110: 'share_location', 111: 'shopping_list', 112: 'shopping_list_update', 113: 'smart_home', 114: 'spelling', 115: 'spending_history', 116: 'sync_device', 117: 'taxes', 118: 'tell_joke', 119: 'text', 120: 'thank_you', 121: 'time', 122: 'timer', 123: 'timezone', 124: 'tire_change', 125: 'tire_pressure', 126: 'todo_list', 127: 'todo_list_update', 128: 'traffic', 129: 'transactions', 130: 'transfer', 131: 'translate', 132: 'travel_alert', 133: 'travel_notification', 134: 'travel_suggestion', 135: 'uber', 136: 'update_playlist', 137: 'user_name', 138: 'vaccines', 139: 'w2', 140: 'weather', 141: 'what_are_your_hobbies', 142: 'what_can_i_ask_you', 143: 'what_is_your_name', 144: 'what_song', 145: 'where_are_you_from', 146: 'whisper_mode', 147: 'who_do_you_work_for', 148: 'who_made_you', 149: 'yes'}\n"
     ]
    }
   ],
   "source": [
    "print(label_to_num)\n",
    "print(num_to_label)"
   ]
  },
  {
   "cell_type": "code",
   "execution_count": 22,
   "metadata": {},
   "outputs": [],
   "source": [
    "y_test = np.vectorize(label_to_num.get)(y_test)"
   ]
  },
  {
   "cell_type": "code",
   "execution_count": 23,
   "metadata": {},
   "outputs": [],
   "source": [
    "data_test = {'message': x_test, 'intent': y_test}"
   ]
  },
  {
   "cell_type": "code",
   "execution_count": 24,
   "metadata": {},
   "outputs": [
    {
     "name": "stdout",
     "output_type": "stream",
     "text": [
      "{'message': array(['how would you say fly in italian',\n",
      "       \"what's the spanish word for pasta\",\n",
      "       'how would they say butter in zambia', ...,\n",
      "       'why did i get rejected on my card',\n",
      "       \"how come my credit card isn't working\", \"why didn't my card work\"],\n",
      "      dtype=object), 'intent': array([131, 131, 131, ...,  18,  18,  18])}\n"
     ]
    }
   ],
   "source": [
    "print(data_test)"
   ]
  },
  {
   "cell_type": "code",
   "execution_count": 25,
   "metadata": {},
   "outputs": [],
   "source": [
    "dataset_test = pd.DataFrame(data_test)"
   ]
  },
  {
   "cell_type": "code",
   "execution_count": 26,
   "metadata": {},
   "outputs": [
    {
     "name": "stderr",
     "output_type": "stream",
     "text": [
      "Asking to truncate to max_length but no maximum length is provided and the model has no predefined maximum length. Default to no truncation.\n"
     ]
    }
   ],
   "source": [
    "def tokenize_function(examples):\n",
    "    return tokenizer(examples[\"message\"], padding=\"max_length\", truncation=True, max_length=28)\n",
    "test_encodings = tokenizer(list(dataset_test['message']), truncation=True, padding=True)"
   ]
  },
  {
   "cell_type": "code",
   "execution_count": 27,
   "metadata": {},
   "outputs": [],
   "source": [
    "# convert datasets to pytorch tensors\n",
    "class IntentDataset(torch.utils.data.Dataset):\n",
    "    def __init__(self, encodings, labels):\n",
    "        self.encodings = encodings\n",
    "        self.labels = labels\n",
    "\n",
    "    def __getitem__(self, idx):\n",
    "        item = {key: torch.tensor(val[idx]) for key, val in self.encodings.items()}\n",
    "        item['labels'] = torch.tensor(self.labels[idx])\n",
    "        return item\n",
    "    def __len__(self):\n",
    "        return len(self.labels)"
   ]
  },
  {
   "cell_type": "code",
   "execution_count": 28,
   "metadata": {},
   "outputs": [],
   "source": [
    "test_dataset = IntentDataset(test_encodings, list(dataset_test['intent']))"
   ]
  },
  {
   "cell_type": "code",
   "execution_count": 29,
   "metadata": {},
   "outputs": [],
   "source": [
    "from transformers import DataCollatorWithPadding\n"
   ]
  },
  {
   "cell_type": "code",
   "execution_count": 30,
   "metadata": {},
   "outputs": [
    {
     "name": "stdout",
     "output_type": "stream",
     "text": [
      "Predicted intent: translate\n"
     ]
    }
   ],
   "source": [
    "def predict_intent(text, model, tokenizer, num_to_label):\n",
    "    inputs = tokenizer(text, return_tensors=\"pt\", padding=\"max_length\", truncation=True, max_length=128)\n",
    "    inputs = {key: val.to(device) for key, val in inputs.items()}\n",
    "\n",
    "    model.eval()\n",
    "    with torch.no_grad():\n",
    "        outputs = model(**inputs)\n",
    "        logits = outputs['logits']\n",
    "        predictions = torch.argmax(logits, dim=-1)\n",
    "\n",
    "    return num_to_label[predictions.item()]\n",
    "\n",
    "# Example usage\n",
    "input_text = \"Do you know hello in Vietnamese is\"\n",
    "predicted_intent = predict_intent(input_text, model, tokenizer, num_to_label)\n",
    "print(f\"Predicted intent: {predicted_intent}\")\n"
   ]
  },
  {
   "cell_type": "code",
   "execution_count": null,
   "metadata": {},
   "outputs": [],
   "source": []
  }
 ],
 "metadata": {
  "kernelspec": {
   "display_name": "Python 3",
   "language": "python",
   "name": "python3"
  },
  "language_info": {
   "codemirror_mode": {
    "name": "ipython",
    "version": 3
   },
   "file_extension": ".py",
   "mimetype": "text/x-python",
   "name": "python",
   "nbconvert_exporter": "python",
   "pygments_lexer": "ipython3",
   "version": "3.11.5"
  }
 },
 "nbformat": 4,
 "nbformat_minor": 2
}
